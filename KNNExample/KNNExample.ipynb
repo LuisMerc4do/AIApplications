{
 "cells": [
  {
   "cell_type": "code",
   "execution_count": 2,
   "metadata": {},
   "outputs": [],
   "source": [
    "\"\"\"\n",
    " We can use KNN Classification for all sorts of data. Here we will use KNN to classify\n",
    " images of hand written English characters.\n",
    " In this dataset there are 1797 character image. Each image is 8x8 pixels i.e. of dimension\n",
    " 64. We reshape each image to a 64x1 vector. Therefore we are \"searching\" in 64\n",
    " dimensional space.\n",
    " We will use cross validation on the training set to determine performance of a range\n",
    " of k values and then perform final evaluation on the test set.\n",
    " The dataset is built into scikit. However you will need to download it from the web as it is too\n",
    " large to be bundled directly.\n",
    "\"\"\"\n",
    "from sklearn import datasets\n",
    "from sklearn.model_selection import train_test_split\n",
    "from sklearn.metrics import classification_report, confusion_matrix\n",
    "from sklearn.model_selection import cross_val_score\n",
    "import numpy as np\n",
    "import matplotlib.pyplot as plt\n",
    "from matplotlib.colors import ListedColormap \n",
    "from sklearn import neighbors\n",
    "from sklearn.datasets import make_blobs"
   ]
  },
  {
   "cell_type": "code",
   "execution_count": 3,
   "metadata": {},
   "outputs": [
    {
     "data": {
      "text/plain": [
       "\"\\n Let's take a look at some sample images. The images in this dataset come from postal\\n codes so they are all numeric.\\n\""
      ]
     },
     "execution_count": 3,
     "metadata": {},
     "output_type": "execute_result"
    }
   ],
   "source": [
    "digits = datasets.load_digits()\n",
    "\"\"\"\n",
    " Let's take a look at some sample images. The images in this dataset come from postal\n",
    " codes so they are all numeric.\n",
    "\"\"\""
   ]
  },
  {
   "cell_type": "code",
   "execution_count": 4,
   "metadata": {},
   "outputs": [
    {
     "data": {
      "image/png": "[encoded data removed]",
      "text/plain": [
       "<Figure size 640x480 with 10 Axes>"
      ]
     },
     "metadata": {},
     "output_type": "display_data"
    }
   ],
   "source": [
    "fig6 = plt.figure()\n",
    "plt.gray()\n",
    "for i in range(1,11):\n",
    "    plt.subplot(1,11,i)\n",
    "    plt.imshow(digits.images[i-1])"
   ]
  },
  {
   "cell_type": "code",
   "execution_count": 5,
   "metadata": {},
   "outputs": [
    {
     "name": "stdout",
     "output_type": "stream",
     "text": [
      "N Training Points: 1347\n",
      "m Test points: 450\n"
     ]
    }
   ],
   "source": [
    "# Split the data into train, validation and test sets\n",
    "trainData, testData, trainLabels, testLabels = train_test_split(np.array(digits.data), digits.target, test_size=0.25, random_state=42)\n",
    "print(\"N Training Points: {}\".format(len(trainLabels)))\n",
    "print(\"m Test points: {}\".format(len(testLabels)))"
   ]
  },
  {
   "cell_type": "code",
   "execution_count": 7,
   "metadata": {},
   "outputs": [
    {
     "name": "stdout",
     "output_type": "stream",
     "text": [
      "k=1, cv_score=98.74\n",
      "k=3, cv_score=98.37\n",
      "k=5, cv_score=98.51\n",
      "k=7, cv_score=97.92\n",
      "k=9, cv_score=97.77\n",
      "k=11, cv_score=97.62\n",
      "k=13, cv_score=97.11\n",
      "k=15, cv_score=97.33\n",
      "k=17, cv_score=96.88\n",
      "k=19, cv_score=96.21\n",
      "k=21, cv_score=95.92\n",
      "k=23, cv_score=95.77\n",
      "k=25, cv_score=95.62\n",
      "k=27, cv_score=95.40\n",
      "k=29, cv_score=95.18\n"
     ]
    }
   ],
   "source": [
    "\"\"\"\n",
    "Optimising k\n",
    "To determine the optimal k we will train our classifier on the training data with various vlaues of k.\n",
    "We will then evaluate the performance of each model on the validation set.\n",
    "\"\"\"\n",
    "# Store cv score for each k \n",
    "cv_scores = []\n",
    "k_vals = []\n",
    "#pip install threadpoolctl==3.1.0\n",
    "#pip install --upgrade threadpoolctl\n",
    "for k in range(1, 30, 2):\n",
    "    model = neighbors.KNeighborsClassifier(n_neighbors=k)\n",
    "    scores = cross_val_score(model, trainData, trainLabels, cv=10, scoring=\"accuracy\")\n",
    "    score = scores.mean()\n",
    "    cv_scores.append(score)\n",
    "    k_vals.append(k)\n",
    "    # PRINTING THE VARIABLE NOT THE ARRAY\n",
    "    print(\"k={0}, cv_score={1:.2f}\".format(k, score * 100))\n"
   ]
  },
  {
   "cell_type": "code",
   "execution_count": 8,
   "metadata": {},
   "outputs": [
    {
     "name": "stdout",
     "output_type": "stream",
     "text": [
      "k=1 achieved highest accuracy of 98.74\n"
     ]
    }
   ],
   "source": [
    "# Find best performing k\n",
    "idx = np.argmax(cv_scores)\n",
    "print(\"k={0} achieved highest accuracy of {1:.2f}\".format(k_vals[idx], cv_scores[idx] * 100))"
   ]
  },
  {
   "cell_type": "code",
   "execution_count": 9,
   "metadata": {},
   "outputs": [],
   "source": [
    "\"\"\"\n",
    "We now know that the best k for this set of training and validation data is  𝑘=1\n",
    " . We may find a different result if we reshuffle the data or obtain new data.\n",
    "\n",
    "Finally we can build our optimal classifier and evaluate on the test set.\n",
    "\n",
    "Note this is a multi-class classification example.\n",
    "\"\"\"\n",
    "\n",
    "model = neighbors.KNeighborsClassifier(n_neighbors = k_vals[idx])\n",
    "model.fit(trainData, trainLabels)\n",
    "predictions = model.predict(testData)"
   ]
  },
  {
   "cell_type": "code",
   "execution_count": 17,
   "metadata": {},
   "outputs": [
    {
     "name": "stdout",
     "output_type": "stream",
     "text": [
      "              precision    recall  f1-score   support\n",
      "\n",
      "           0       1.00      1.00      1.00        43\n",
      "           1       0.95      1.00      0.97        37\n",
      "           2       1.00      1.00      1.00        38\n",
      "           3       0.98      0.98      0.98        46\n",
      "           4       0.98      0.98      0.98        55\n",
      "           5       0.98      1.00      0.99        59\n",
      "           6       1.00      1.00      1.00        45\n",
      "           7       1.00      0.98      0.99        41\n",
      "           8       0.97      0.95      0.96        38\n",
      "           9       0.96      0.94      0.95        48\n",
      "\n",
      "    accuracy                           0.98       450\n",
      "   macro avg       0.98      0.98      0.98       450\n",
      "weighted avg       0.98      0.98      0.98       450\n",
      "\n",
      "[[43  0  0  0  0  0  0  0  0  0]\n",
      " [ 0 37  0  0  0  0  0  0  0  0]\n",
      " [ 0  0 38  0  0  0  0  0  0  0]\n",
      " [ 0  0  0 45  0  0  0  0  1  0]\n",
      " [ 0  1  0  0 54  0  0  0  0  0]\n",
      " [ 0  0  0  0  0 59  0  0  0  0]\n",
      " [ 0  0  0  0  0  0 45  0  0  0]\n",
      " [ 0  0  0  0  0  0  0 40  0  1]\n",
      " [ 0  1  0  0  0  0  0  0 36  1]\n",
      " [ 0  0  0  1  1  1  0  0  0 45]]\n"
     ]
    },
    {
     "data": {
      "text/plain": [
       "'\\nObservations\\nSuprisingly our KNN classifier achieves near perfect classification accuracy on this data set.\\n\\nRemember: more complex models do not guarantee better results. Sometimes some simple methods can be quite effective.\\n'"
      ]
     },
     "execution_count": 17,
     "metadata": {},
     "output_type": "execute_result"
    }
   ],
   "source": [
    "# Final classification report\n",
    "print(classification_report(testLabels, predictions))\n",
    "print(confusion_matrix(testLabels, predictions))\n",
    "\n",
    "\"\"\"\n",
    "Observations\n",
    "Suprisingly our KNN classifier achieves near perfect classification accuracy on this data set.\n",
    "\n",
    "Remember: more complex models do not guarantee better results. Sometimes some simple methods can be quite effective.\n",
    "\"\"\""
   ]
  }
 ],
 "metadata": {
  "kernelspec": {
   "display_name": "Python 3",
   "language": "python",
   "name": "python3"
  },
  "language_info": {
   "codemirror_mode": {
    "name": "ipython",
    "version": 3
   },
   "file_extension": ".py",
   "mimetype": "text/x-python",
   "name": "python",
   "nbconvert_exporter": "python",
   "pygments_lexer": "ipython3",
   "version": "3.12.3"
  }
 },
 "nbformat": 4,
 "nbformat_minor": 2
}
