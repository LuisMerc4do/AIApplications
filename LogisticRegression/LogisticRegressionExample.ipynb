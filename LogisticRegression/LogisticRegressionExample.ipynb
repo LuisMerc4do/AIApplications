{
 "cells": [
  {
   "cell_type": "code",
   "execution_count": 2,
   "metadata": {},
   "outputs": [],
   "source": [
    "import pandas as pd\n",
    "from sklearn.linear_model import LogisticRegression\n",
    "import numpy as np\n",
    "import os\n",
    "from sklearn.model_selection import train_test_split"
   ]
  },
  {
   "cell_type": "code",
   "execution_count": 4,
   "metadata": {},
   "outputs": [],
   "source": [
    "os.chdir(r\"C:\\Users\\skill\\source\\repos\\AIApplications\\LogisticRegression\")  # Provide the new path here\n",
    "df = pd.read_csv('Default.csv')\n",
    "#Convert the student category column to Boolean values\n",
    "df.student = np.where(df.student == 'Yes', 1, 0)\n",
    "# Use the balance feature and set the default status as the target value to predict. \n",
    "# You could also use all available features if you believe that they are informative.\n",
    "X = df[['balance']]\n",
    "y = df[['default']]"
   ]
  },
  {
   "cell_type": "code",
   "execution_count": 6,
   "metadata": {},
   "outputs": [
    {
     "name": "stderr",
     "output_type": "stream",
     "text": [
      "c:\\Users\\skill\\AppData\\Local\\Programs\\Python\\Python312\\Lib\\site-packages\\sklearn\\utils\\validation.py:1310: DataConversionWarning: A column-vector y was passed when a 1d array was expected. Please change the shape of y to (n_samples, ), for example using ravel().\n",
      "  y = column_or_1d(y, warn=True)\n"
     ]
    },
    {
     "data": {
      "text/plain": [
       "array([-10.93047526])"
      ]
     },
     "execution_count": 6,
     "metadata": {},
     "output_type": "execute_result"
    }
   ],
   "source": [
    "X_train, X_val, y_train, y_val = train_test_split(X, y, test_size=0.3, random_state=1)\n",
    "\n",
    "#Fit the Logistic Regression model\n",
    "log_res = LogisticRegression()\n",
    "log_res.fit(X_train, y_train)\n",
    "\n",
    "log_res.coef_ \n",
    "log_res.intercept_ "
   ]
  },
  {
   "cell_type": "code",
   "execution_count": 7,
   "metadata": {},
   "outputs": [
    {
     "name": "stdout",
     "output_type": "stream",
     "text": [
      "Probability of default with Balance of 1200: 1.69%\n",
      "Probability of default with Balance of 2500: 96.68%\n"
     ]
    }
   ],
   "source": [
    "#predict_proba() returns the probabilities of an observation belonging to each class.\n",
    "# This is computed from the logistic function.\n",
    "prob = log_res.predict_proba(pd.DataFrame({'balance': [1200, 2500]}))\n",
    "print(\"Probability of default with Balance of 1200: {0:.2f}%\".format(prob[0,1] * 100))\n",
    "print(\"Probability of default with Balance of 2500: {0:.2f}%\".format(prob[1,1] * 100))\n"
   ]
  },
  {
   "cell_type": "code",
   "execution_count": 8,
   "metadata": {},
   "outputs": [
    {
     "name": "stdout",
     "output_type": "stream",
     "text": [
      "Assigned class with Balance of 1200: 0\n",
      "Assigned class with Balance of 2500: 1\n",
      "[[2891   18]\n",
      " [  59   32]]\n",
      "              precision    recall  f1-score   support\n",
      "\n",
      "           0      0.980     0.994     0.987      2909\n",
      "           1      0.640     0.352     0.454        91\n",
      "\n",
      "    accuracy                          0.974      3000\n",
      "   macro avg      0.810     0.673     0.720      3000\n",
      "weighted avg      0.970     0.974     0.971      3000\n",
      "\n"
     ]
    }
   ],
   "source": [
    "outcome = log_res.predict(pd.DataFrame({'balance': [1200, 2500]}))\n",
    "print(\"Assigned class with Balance of 1200: {0}\".format(outcome[0]))\n",
    "print(\"Assigned class with Balance of 2500: {0}\".format(outcome[1]))\n",
    "\n",
    "#We can evaluate classification accuracy using confusion matrix and the classification report:\n",
    "    \n",
    "from sklearn.metrics import confusion_matrix\n",
    "\n",
    "pred_log = log_res.predict(X_val)\n",
    "\n",
    "print(confusion_matrix(y_val,pred_log))\n",
    "\n",
    "from sklearn.metrics import classification_report  \n",
    "\n",
    "print(classification_report(y_val, pred_log, digits=3))\n"
   ]
  }
 ],
 "metadata": {
  "kernelspec": {
   "display_name": "Python 3",
   "language": "python",
   "name": "python3"
  },
  "language_info": {
   "codemirror_mode": {
    "name": "ipython",
    "version": 3
   },
   "file_extension": ".py",
   "mimetype": "text/x-python",
   "name": "python",
   "nbconvert_exporter": "python",
   "pygments_lexer": "ipython3",
   "version": "3.12.3"
  }
 },
 "nbformat": 4,
 "nbformat_minor": 2
}
